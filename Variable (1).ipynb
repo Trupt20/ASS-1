{
 "cells": [
  {
   "cell_type": "code",
   "execution_count": 4,
   "id": "4193956e-f225-4c41-814a-a5af386c1090",
   "metadata": {},
   "outputs": [
    {
     "name": "stdout",
     "output_type": "stream",
     "text": [
      "('shravani', [10, 20, 300], 10.2, [10, 20, 20.3, 'tanya', 'sanju'])\n"
     ]
    }
   ],
   "source": [
    "## QUESTION 1\n",
    "a = \"shravani\" ,[10,20,300],10.20 ,[10,20,20.3,\"tanya\",\"sanju\"]\n",
    "print(a)\n"
   ]
  },
  {
   "cell_type": "code",
   "execution_count": 11,
   "id": "6ce3a9b0-d0e8-45ca-b459-ec35da5faa55",
   "metadata": {},
   "outputs": [
    {
     "data": {
      "text/plain": [
       "str"
      ]
     },
     "execution_count": 11,
     "metadata": {},
     "output_type": "execute_result"
    }
   ],
   "source": [
    "## QUESTION 2\n",
    "var1 =''\n",
    "type(var1)"
   ]
  },
  {
   "cell_type": "code",
   "execution_count": 10,
   "id": "f00c5f7e-f51e-4cdc-b994-9e251e60c24a",
   "metadata": {},
   "outputs": [
    {
     "data": {
      "text/plain": [
       "str"
      ]
     },
     "execution_count": 10,
     "metadata": {},
     "output_type": "execute_result"
    }
   ],
   "source": [
    "var2 = '[DS,ML,PYTHON]'\n",
    "type(var2)"
   ]
  },
  {
   "cell_type": "code",
   "execution_count": 12,
   "id": "7610c697-c143-4661-94d5-22e3af79bbf1",
   "metadata": {},
   "outputs": [
    {
     "data": {
      "text/plain": [
       "list"
      ]
     },
     "execution_count": 12,
     "metadata": {},
     "output_type": "execute_result"
    }
   ],
   "source": [
    "var3 = ['DS','ML','Python']\n",
    "type(var3)"
   ]
  },
  {
   "cell_type": "code",
   "execution_count": 8,
   "id": "d9a0b808-2863-4846-9106-7cc4e0aca386",
   "metadata": {},
   "outputs": [
    {
     "data": {
      "text/plain": [
       "int"
      ]
     },
     "execution_count": 8,
     "metadata": {},
     "output_type": "execute_result"
    }
   ],
   "source": [
    "var4 = 1\n",
    "type(var4)"
   ]
  },
  {
   "cell_type": "code",
   "execution_count": 17,
   "id": "0b3de883-168b-4f9d-91e2-4db955319720",
   "metadata": {},
   "outputs": [
    {
     "name": "stdout",
     "output_type": "stream",
     "text": [
      "The division is: 2.0\n",
      "The modulo is: 0\n",
      "Thr floor division is: 2\n",
      "The power id: 100\n"
     ]
    }
   ],
   "source": [
    "## QUESTION 3\n",
    "# / :- Use for division of two numbers.\n",
    "a = 4\n",
    "b = 2\n",
    "c = a/b\n",
    "print(\"The division is:\",c)\n",
    "\n",
    "# % - This operator is use for modulo.\n",
    "d = a%b\n",
    "print(\"The modulo is:\",d)\n",
    "# // - This operator is use for floor division.\n",
    "e = a//b\n",
    "print(\"Thr floor division is:\",e)\n",
    "# ** - This operator is use for to find power of numbers.\n",
    "r = 10**2\n",
    "print(\"The power id:\",r)\n"
   ]
  },
  {
   "cell_type": "code",
   "execution_count": 18,
   "id": "6d1c3192-cd60-4fec-818b-f36d236ad0f1",
   "metadata": {},
   "outputs": [
    {
     "name": "stdout",
     "output_type": "stream",
     "text": [
      "10\n",
      "<class 'int'>\n",
      "230\n",
      "<class 'int'>\n",
      "45.56\n",
      "<class 'float'>\n",
      "tanaya\n",
      "<class 'str'>\n",
      "riya\n",
      "<class 'str'>\n",
      "43.23\n",
      "<class 'float'>\n",
      "Mumbai\n",
      "<class 'str'>\n",
      "Chennai\n",
      "<class 'str'>\n",
      "5896\n",
      "<class 'int'>\n",
      "563\n",
      "<class 'int'>\n"
     ]
    }
   ],
   "source": [
    "## QUESTION 4\n",
    "a = [10,230,45.56,\"tanaya\",\"riya\",43.23,\"Mumbai\",\"Chennai\",5896,563]\n",
    "for i in a :\n",
    "    print(i)\n",
    "    print(type(i))\n"
   ]
  },
  {
   "cell_type": "code",
   "execution_count": 6,
   "id": "f5cc71eb-1954-4794-8ac0-4e62718f1b84",
   "metadata": {},
   "outputs": [
    {
     "name": "stdout",
     "output_type": "stream",
     "text": [
      "1\n",
      "2\n",
      "2\n",
      "2\n",
      "2\n",
      "2\n",
      "2\n",
      "2\n",
      "2\n",
      "2\n"
     ]
    }
   ],
   "source": [
    "## QUESTION 5\n",
    "A = 2\n",
    "B = 1\n",
    "while(B <= 10):\n",
    "    if A % B == 0:\n",
    "        result = B\n",
    "    print (result)\n",
    "    B = B + 1\n"
   ]
  },
  {
   "cell_type": "code",
   "execution_count": 21,
   "id": "6578238f-b14c-4ada-bc73-8584c51332e0",
   "metadata": {},
   "outputs": [
    {
     "name": "stdout",
     "output_type": "stream",
     "text": [
      "30\n",
      "This element is divisible by 3\n",
      "12\n",
      "This element is divisible by 3\n",
      "25\n",
      "This element is divisible by 3\n",
      "26\n",
      "This element is divisible by 3\n",
      "14\n",
      "This element is divisible by 3\n",
      "58\n",
      "This element is divisible by 3\n",
      "69\n",
      "This element is divisible by 3\n",
      "74\n",
      "This element is divisible by 3\n",
      "9\n",
      "This element is divisible by 3\n",
      "63\n",
      "This element is divisible by 3\n",
      "20\n",
      "This element is divisible by 3\n",
      "50\n",
      "This element is divisible by 3\n",
      "98\n",
      "This element is divisible by 3\n",
      "54\n",
      "This element is divisible by 3\n",
      "78\n",
      "This element is divisible by 3\n",
      "15\n",
      "This element is divisible by 3\n",
      "18\n",
      "This element is divisible by 3\n",
      "22\n",
      "This element is divisible by 3\n",
      "21\n",
      "This element is divisible by 3\n",
      "36\n",
      "This element is divisible by 3\n",
      "82\n",
      "This element is divisible by 3\n",
      "65\n",
      "This element is divisible by 3\n",
      "84\n",
      "This element is divisible by 3\n",
      "60\n",
      "This element is divisible by 3\n",
      "25\n",
      "This element is divisible by 3\n"
     ]
    }
   ],
   "source": [
    "## QUESTION 6\n",
    "a =[30,12,25,26,14,58,69,74,9,63,20,50,98,54,78,15,18,22,21,36,82,65,84,60,25]\n",
    "for i in a:\n",
    "    print(i)\n",
    "    if i / 3:\n",
    "        print(\"This element is divisible by 3\")\n",
    "    else:\n",
    "        print(\"Elements are not divisible by 3\")\n",
    "        "
   ]
  },
  {
   "cell_type": "code",
   "execution_count": 22,
   "id": "9483f1c0-7475-4a73-bd5a-0ffbc2c8b568",
   "metadata": {},
   "outputs": [
    {
     "name": "stdout",
     "output_type": "stream",
     "text": [
      "Adding element 2 in list [1, 3, 4, 5, 7, 2]\n",
      "Adding element 6 on the index 4 [1, 3, 4, 5, 6, 7, 2]\n",
      "REmoving element 5 [1, 3, 4, 6, 7, 2]\n"
     ]
    }
   ],
   "source": [
    "## QUESTION 7\n",
    "#MUTABLE DATA TYPE-:\n",
    "# In Mutable  data types you can change the value of obeject without changing its identity.\n",
    "a = [1,3,4,5,7]\n",
    "a.append(2)\n",
    "print(\"Adding element 2 in list\",a)\n",
    "a.insert(4,6)\n",
    "print(\"Adding element 6 on the index 4\",a)\n",
    "a.remove(5)\n",
    "print(\"REmoving element 5\",a)"
   ]
  },
  {
   "cell_type": "code",
   "execution_count": 25,
   "id": "1432ce7a-1f3a-4116-b85c-8a20106976e9",
   "metadata": {},
   "outputs": [
    {
     "ename": "TypeError",
     "evalue": "'str' object does not support item assignment",
     "output_type": "error",
     "traceback": [
      "\u001b[0;31m---------------------------------------------------------------------------\u001b[0m",
      "\u001b[0;31mTypeError\u001b[0m                                 Traceback (most recent call last)",
      "Cell \u001b[0;32mIn[25], line 4\u001b[0m\n\u001b[1;32m      1\u001b[0m \u001b[38;5;66;03m# IMMUTABLE DATA TYPE\u001b[39;00m\n\u001b[1;32m      2\u001b[0m \u001b[38;5;66;03m# In immutable data type you can not modifide the object once it created.\u001b[39;00m\n\u001b[1;32m      3\u001b[0m \u001b[38;5;28mstr\u001b[39m \u001b[38;5;241m=\u001b[39m \u001b[38;5;124m\"\u001b[39m\u001b[38;5;124mMumbai\u001b[39m\u001b[38;5;124m\"\u001b[39m\n\u001b[0;32m----> 4\u001b[0m \u001b[38;5;28;43mstr\u001b[39;49m\u001b[43m[\u001b[49m\u001b[38;5;241;43m0\u001b[39;49m\u001b[43m]\u001b[49m \u001b[38;5;241m=\u001b[39m \u001b[38;5;124m\"\u001b[39m\u001b[38;5;124mt\u001b[39m\u001b[38;5;124m\"\u001b[39m\n\u001b[1;32m      5\u001b[0m \u001b[38;5;28mprint\u001b[39m(\u001b[38;5;28mstr\u001b[39m)\n",
      "\u001b[0;31mTypeError\u001b[0m: 'str' object does not support item assignment"
     ]
    }
   ],
   "source": [
    "# IMMUTABLE DATA TYPE\n",
    "# In immutable data type you can not modifide the object once it created.\n",
    "str = \"Mumbai\"\n",
    "str[0] = \"t\"\n",
    "print(str)"
   ]
  },
  {
   "cell_type": "code",
   "execution_count": 25,
   "id": "c40b488d-f54a-4a89-9e59-163ddd370066",
   "metadata": {},
   "outputs": [
    {
     "ename": "TypeError",
     "evalue": "'str' object does not support item assignment",
     "output_type": "error",
     "traceback": [
      "\u001b[0;31m---------------------------------------------------------------------------\u001b[0m",
      "\u001b[0;31mTypeError\u001b[0m                                 Traceback (most recent call last)",
      "Cell \u001b[0;32mIn[25], line 4\u001b[0m\n\u001b[1;32m      1\u001b[0m \u001b[38;5;66;03m# IMMUTABLE DATA TYPE\u001b[39;00m\n\u001b[1;32m      2\u001b[0m \u001b[38;5;66;03m# In immutable data type you can not modifide the object once it created.\u001b[39;00m\n\u001b[1;32m      3\u001b[0m \u001b[38;5;28mstr\u001b[39m \u001b[38;5;241m=\u001b[39m \u001b[38;5;124m\"\u001b[39m\u001b[38;5;124mMumbai\u001b[39m\u001b[38;5;124m\"\u001b[39m\n\u001b[0;32m----> 4\u001b[0m \u001b[38;5;28;43mstr\u001b[39;49m\u001b[43m[\u001b[49m\u001b[38;5;241;43m0\u001b[39;49m\u001b[43m]\u001b[49m \u001b[38;5;241m=\u001b[39m \u001b[38;5;124m\"\u001b[39m\u001b[38;5;124mt\u001b[39m\u001b[38;5;124m\"\u001b[39m\n\u001b[1;32m      5\u001b[0m \u001b[38;5;28mprint\u001b[39m(\u001b[38;5;28mstr\u001b[39m)\n",
      "\u001b[0;31mTypeError\u001b[0m: 'str' object does not support item assignment"
     ]
    }
   ],
   "source": [
    "# IMMUTABLE DATA TYPE\n",
    "# In immutable data type you can not modifide the object once it created.\n",
    "str = \"Mumbai\"\n",
    "str[0] = \"t\"\n",
    "print(str)"
   ]
  }
 ],
 "metadata": {
  "kernelspec": {
   "display_name": "Python 3 (ipykernel)",
   "language": "python",
   "name": "python3"
  },
  "language_info": {
   "codemirror_mode": {
    "name": "ipython",
    "version": 3
   },
   "file_extension": ".py",
   "mimetype": "text/x-python",
   "name": "python",
   "nbconvert_exporter": "python",
   "pygments_lexer": "ipython3",
   "version": "3.10.8"
  }
 },
 "nbformat": 4,
 "nbformat_minor": 5
}
